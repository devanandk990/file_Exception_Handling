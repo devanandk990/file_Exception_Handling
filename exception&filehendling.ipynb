{
  "nbformat": 4,
  "nbformat_minor": 0,
  "metadata": {
    "colab": {
      "provenance": []
    },
    "kernelspec": {
      "name": "python3",
      "display_name": "Python 3"
    },
    "language_info": {
      "name": "python"
    }
  },
  "cells": [
    {
      "cell_type": "markdown",
      "source": [
        "**theory** **question**"
      ],
      "metadata": {
        "id": "E1KLg5LZs58G"
      }
    },
    {
      "cell_type": "markdown",
      "source": [
        "#Q1  What is the difference between interpreted and compiled languages?\n",
        "\n",
        "Ans->\n",
        "\n",
        "> Compiled Languages\n",
        "\n",
        ". Translated entirely before execution by a compiler.\n",
        "\n",
        ". The compiler converts source code (e.g., C, C++) into machine code (binary) that the CPU can run directly.\n",
        "\n",
        "> Interpreted Languages\n",
        "\n",
        ". Executed line by line by an interpreter (e.g., Python, JavaScript).\n",
        "\n",
        ". No separate compilation step — the interpreter runs the source code directly.\n",
        "\n",
        "#Q2 What is exception handling in Python?\n",
        "\n",
        "Ans->\n",
        "\n",
        "Exception handling in Python is a way to gracefully manage errors that occur during the execution of a program, so the program doesn't crash unexpectedly.\n",
        "\n",
        "-> What is an Exception?\n",
        "\n",
        "- An exception is an error that happens at runtime — for example:\n",
        "\n",
        "- Dividing by zero: ZeroDivisionError\n",
        "\n",
        "- Accessing a file that doesn’t exist: FileNotFoundError\n",
        "\n",
        "- Invalid value conversion: ValueError\n",
        "\n",
        "#Q3 What is the purpose of the finally block in exception handling?\n",
        "\n",
        "Ans->\n",
        "\n",
        "The finally block in Python exception handling is used to guarantee that certain code runs no matter what — whether an exception was raised or not.\n",
        "\n",
        "- Even if the file doesn’t exist or an error occurs while reading, the finally block will still execute, making sure the file is closed properly if it was opened.\n",
        "\n",
        "#Q4 What is logging in Python?\n",
        "\n",
        "Ans->\n",
        "\n",
        "Logging in Python is the process of recording messages (such as errors, status updates, or debugging info) while a program runs — instead of using print statements.\n",
        "\n",
        "It helps us:\n",
        "\n",
        "- Track what's happening inside your code\n",
        "\n",
        "- Debug more effectively\n",
        "\n",
        "- Maintain logs for later analysis (especially useful in production)\n",
        "\n",
        "#Q5 What is the significance of the __del__ method in Python?\n",
        "\n",
        "Ans->\n",
        "\n",
        "The __del__ method in Python is a special (magic) method known as a destructor. It is called when an object is about to be destroyed, typically when there are no more references to it.\n",
        "\n",
        "🧨 Purpose of __del__:\n",
        "\n",
        ". To define cleanup behavior for an object before it’s garbage collected.\n",
        "\n",
        ". Often used to:\n",
        "\n",
        "- Release external resources (files, network connections, etc.)\n",
        "\n",
        "- Log deletion or track memory usage\n",
        "\n",
        "#Q6. What is the difference between import and from ... import in Python?\n",
        "\n",
        "ANS ➝\n",
        "\n",
        "import module: imports the entire module.\n",
        "\n",
        "→ Access using module.name\n",
        "\n",
        "from module import name: imports a specific part.\n",
        "\n",
        "→ Access directly as name\n",
        "\n",
        "#Q7. How can you handle multiple exceptions in Python?\n",
        "\n",
        "ANS ➝\n",
        "Use multiple except blocks or group exceptions in a tuple:\n",
        "\n",
        "try:\n",
        "\n",
        "    # risky code\n",
        "except (TypeError, ValueError) as e:\n",
        "\n",
        "    print(\"Caught:\", e)\n",
        "\n",
        "#Q8. What is the purpose of the with statement when handling files in Python?\n",
        "\n",
        "ANS ➝\n",
        "It ensures the file is automatically closed after use, even if an error occurs:\n",
        "\n",
        "with open('file.txt', 'r') as f:\n",
        "\n",
        "    data = f.read()\n",
        "\n",
        "#Q9. What is the difference between multithreading and multiprocessing?\n",
        "\n",
        "ANS ➝\n",
        "\n",
        "-  Multithreading: multiple threads share one process — better for I/O-bound tasks.\n",
        "\n",
        "- Multiprocessing: multiple processes with separate memory — better for CPU-bound tasks.\n",
        "\n",
        "#Q10. What are the advantages of using logging in a program?\n",
        "\n",
        "ANS ➝\n",
        "\n",
        "- Tracks events and errors\n",
        "\n",
        "- Helps in debugging and monitoring\n",
        "\n",
        "- Can output to files, console, or network\n",
        "\n",
        "- Supports different severity levels\n",
        "\n",
        "#Q11. What is memory management in Python?\n",
        "\n",
        "ANS ➝\n",
        "\n",
        "Python uses automatic memory management:\n",
        "\n",
        "- Object allocation handled by Python\n",
        "\n",
        "- Garbage collection frees unused memory\n",
        "\n",
        "#Q12. What are the basic steps involved in exception handling in Python?\n",
        "\n",
        "ANS ➝\n",
        "\n",
        "- Use try to write risky code\n",
        "\n",
        "- Use except to catch exceptions\n",
        "\n",
        "- Use else for code that runs if no exception\n",
        "\n",
        "- Use finally for cleanup (runs always)\n",
        "\n",
        "#Q13. Why is memory management important in Python?\n",
        "\n",
        "ANS ➝\n",
        "\n",
        "It prevents memory leaks, ensures efficient resource use, and keeps the application fast and stable.\n",
        "\n",
        "#Q14. What is the role of try and except in exception handling?\n",
        "\n",
        "ANS ➝\n",
        "\n",
        "try: wraps code that may raise an exception\n",
        "\n",
        "except: catches and handles specific or general exceptions\n",
        "\n",
        "#Q15. How does Python's garbage collection system work?\n",
        "\n",
        "ANS ➝\n",
        "\n",
        "Python uses reference counting and a cyclic garbage collector to reclaim memory used by objects no longer in use.\n",
        "\n",
        "#Q16. What is the purpose of the else block in exception handling?\n",
        "\n",
        "ANS ➝\n",
        "\n",
        "The else block runs only if no exceptions occur in the try block — good for code that should run when everything goes smoothly.\n",
        "\n",
        "#Q17. What are the common logging levels in Python?\n",
        "\n",
        "ANS ➝\n",
        "\n",
        "Level ____\tDescription\n",
        "\n",
        "DEBUG\t____Detailed debugging info\n",
        "\n",
        "INFO ____\tGeneral info\n",
        "\n",
        "WARNING\t____Something unexpected\n",
        "\n",
        "ERROR\t____A serious error occurred\n",
        "\n",
        "CRITICAL\t____A very severe error\n",
        "#Q18. What is the difference between os.fork() and multiprocessing in Python?\n",
        "\n",
        "ANS ➝\n",
        "\n",
        "- os.fork(): low-level method to create a child process (Unix-only).\n",
        "\n",
        "- multiprocessing: high-level module for process-based parallelism — cross-platform and easier to manage.\n",
        "\n",
        "#Q19. What is the importance of closing a file in Python?\n",
        "\n",
        "ANS ➝\n",
        "\n",
        "- Frees system resources\n",
        "\n",
        "- Ensures data is saved properly\n",
        "\n",
        "- Prevents file corruption or locks\n",
        "\n",
        "(Use with open() to handle this automatically.)\n",
        "\n",
        "#Q20. What is the difference between file.read() and file.readline() in Python?\n",
        "\n",
        "ANS ➝\n",
        "\n",
        "- read(): reads the entire file as a single string\n",
        "\n",
        "- readline(): reads one line at a time\n",
        "\n",
        "#Q21. What is the logging module in Python used for?\n",
        "\n",
        "ANS ➝\n",
        "It records messages during program execution — useful for debugging, error tracking, and auditing.\n",
        "\n",
        "#Q22. What is the os module in Python used for in file handling?\n",
        "\n",
        "ANS ➝\n",
        "It provides functions to interact with the operating system — like creating, deleting, renaming files/directories, and path handling.\n",
        "\n",
        "#Q23. What are the challenges associated with memory management in Python?\n",
        "\n",
        "ANS ➝\n",
        "\n",
        "- Circular references\n",
        "\n",
        "- Large object retention\n",
        "\n",
        "- Memory leaks due to global variables or poor design\n",
        "\n",
        "#Q24. How do you raise an exception manually in Python?\n",
        "\n",
        "ANS ➝\n",
        "\n",
        "raise ValueError(\"Invalid input!\")\n",
        "\n",
        "\n",
        "Use the raise keyword followed by an exception.\n",
        "\n",
        "#Q25. Why is it important to use multithreading in certain applications?\n",
        "\n",
        "ANS ➝\n",
        "It allows programs to run multiple operations concurrently — improving performance in I/O-bound tasks like file I/O, network requests, and UI responsiveness.\n",
        "\n",
        "\n",
        "\n",
        "\n",
        "\n"
      ],
      "metadata": {
        "id": "G45J9QcWVPRw"
      }
    },
    {
      "cell_type": "markdown",
      "source": [
        "**practical** **question**"
      ],
      "metadata": {
        "id": "EEVF5sFPLs3_"
      }
    },
    {
      "cell_type": "code",
      "source": [
        "#Q1. How can you open a file for writing in Python and write a string to it?\n",
        "with open(\"file_name.txt\",\"w\") as f:\n",
        "  f.write(\"this is string\")\n",
        "with open(\"file_name.txt\",\"r\") as f:\n",
        "  print(f.read())"
      ],
      "metadata": {
        "colab": {
          "base_uri": "https://localhost:8080/"
        },
        "id": "UovTdzkYVb9A",
        "outputId": "3bdb536d-afc4-4a83-922e-29a16860e32f"
      },
      "execution_count": 2,
      "outputs": [
        {
          "output_type": "stream",
          "name": "stdout",
          "text": [
            "this is string\n"
          ]
        }
      ]
    },
    {
      "cell_type": "code",
      "source": [
        "#Q2. Write a Python program to read the contents of a file and print each line.\n",
        "\n",
        "with open(\"file1_name.txt\",\"w\") as f:\n",
        "  f.write(\"this is string1\\n\")\n",
        "  f.write(\"this is string2\\n\")\n",
        "  f.write(\"this is string3\\n\")\n",
        "with open(\"file1_name.txt\",\"r\") as f:\n",
        "  print(f.read())"
      ],
      "metadata": {
        "colab": {
          "base_uri": "https://localhost:8080/"
        },
        "id": "0ZE2c2bgVcvB",
        "outputId": "2b29c6bb-e565-4124-aca5-bd97da2f60cf"
      },
      "execution_count": 3,
      "outputs": [
        {
          "output_type": "stream",
          "name": "stdout",
          "text": [
            "this is string1\n",
            "this is string2\n",
            "this is string3\n",
            "\n"
          ]
        }
      ]
    },
    {
      "cell_type": "code",
      "source": [
        "#Q3.How would you handle a case where the file doesn't exist while trying to open it for reading?\n",
        "try:\n",
        "  with open(\"file2_name.txt\",\"r\") as f:\n",
        "    print(f.read())\n",
        "except FileNotFoundError:\n",
        "  print(\"file not found\")"
      ],
      "metadata": {
        "colab": {
          "base_uri": "https://localhost:8080/"
        },
        "id": "MnVUo9oXVczH",
        "outputId": "b1119ef3-d6f2-4667-bd06-98763241477f"
      },
      "execution_count": 4,
      "outputs": [
        {
          "output_type": "stream",
          "name": "stdout",
          "text": [
            "file not found\n"
          ]
        }
      ]
    },
    {
      "cell_type": "code",
      "source": [],
      "metadata": {
        "colab": {
          "base_uri": "https://localhost:8080/"
        },
        "id": "ixIx4g14cUjB",
        "outputId": "e5eab5f5-4898-494b-d2ef-1673ba0d659b"
      },
      "execution_count": 8,
      "outputs": [
        {
          "output_type": "stream",
          "name": "stdout",
          "text": [
            "this is string1\n",
            "this is string2\n",
            "this is string3\n",
            "\n"
          ]
        }
      ]
    },
    {
      "cell_type": "code",
      "source": [
        "#Q4.Write a Python script that reads from one file and writes its content to another file\n",
        "with open(\"destination.txt\",\"w\")as f:\n",
        "  f.write(\"this is string1\\n\")\n",
        "  f.write(\"this is string2\\n\")\n",
        "  f.write(\"this is string3\\n\")\n",
        "with open(\"destination.txt\",\"r\") as f:\n",
        "  print(f.read())"
      ],
      "metadata": {
        "colab": {
          "base_uri": "https://localhost:8080/"
        },
        "outputId": "e5eab5f5-4898-494b-d2ef-1673ba0d659b",
        "id": "djffpS9NdOHe"
      },
      "execution_count": null,
      "outputs": [
        {
          "output_type": "stream",
          "name": "stdout",
          "text": [
            "this is string1\n",
            "this is string2\n",
            "this is string3\n",
            "\n"
          ]
        }
      ]
    },
    {
      "cell_type": "code",
      "source": [
        "#Q5.How would you catch and handle division by zero error in Python?\n",
        "try:\n",
        "  a=10\n",
        "  b=0\n",
        "  c=a/b\n",
        "except ZeroDivisionError:\n",
        "  print(\"division by zero error\")"
      ],
      "metadata": {
        "colab": {
          "base_uri": "https://localhost:8080/"
        },
        "id": "AL6uEsy2Vc84",
        "outputId": "7a9d2927-2a18-4632-dc89-8d71d3b93807"
      },
      "execution_count": 10,
      "outputs": [
        {
          "output_type": "stream",
          "name": "stdout",
          "text": [
            "division by zero error\n"
          ]
        }
      ]
    },
    {
      "cell_type": "code",
      "source": [
        "# Q6.Write a Python program that logs an error message to a log file when a division by zero exception occurs\n",
        "import logging\n",
        "logging.basicConfig(filename=\"error.log\",level=logging.ERROR)\n",
        "try:\n",
        "  c=5/0\n",
        "  print(c)\n",
        "except ZeroDivisionError as e:\n",
        "  logging.error(\"division by zero error\")"
      ],
      "metadata": {
        "colab": {
          "base_uri": "https://localhost:8080/"
        },
        "id": "vJUppJKjVdAp",
        "outputId": "50bf977c-1e64-4fbf-e67e-7633d12ff057"
      },
      "execution_count": 11,
      "outputs": [
        {
          "output_type": "stream",
          "name": "stderr",
          "text": [
            "ERROR:root:division by zero error\n"
          ]
        }
      ]
    },
    {
      "cell_type": "code",
      "source": [
        "#q7.How do you log information at different levels (INFO, ERROR, WARNING) in Python using the logging module?\n",
        "import logging\n",
        "logging.basicConfig(filename=\"info.log\",level=logging.INFO)\n",
        "logging.info(\"this is info message\")\n",
        "logging.error(\"this is error message\")\n",
        "logging.warning(\"this is warning message\")\n"
      ],
      "metadata": {
        "colab": {
          "base_uri": "https://localhost:8080/"
        },
        "id": "5GmuPtFZVdFx",
        "outputId": "6b2469aa-3878-4a2c-870c-a9846fcfeb48"
      },
      "execution_count": 12,
      "outputs": [
        {
          "output_type": "stream",
          "name": "stderr",
          "text": [
            "ERROR:root:this is error message\n",
            "WARNING:root:this is warning message\n"
          ]
        }
      ]
    },
    {
      "cell_type": "code",
      "source": [
        "# q8. Write a program to handle a file opening error using exception handling?\n",
        "try:\n",
        "  with open(\"file3_name.txt\",\"r\") as f:\n",
        "    print(f.read())\n",
        "except FileNotFoundError as e:\n",
        "  print(\"file not found\",e)"
      ],
      "metadata": {
        "colab": {
          "base_uri": "https://localhost:8080/"
        },
        "id": "pxGp8_VGVdL6",
        "outputId": "b796c865-45e9-4246-9366-ae7072dc64a5"
      },
      "execution_count": 15,
      "outputs": [
        {
          "output_type": "stream",
          "name": "stdout",
          "text": [
            "file not found [Errno 2] No such file or directory: 'file3_name.txt'\n"
          ]
        }
      ]
    },
    {
      "cell_type": "code",
      "source": [
        "#q9. How can you read a file line by line and store its content in a list in Python?\n",
        "with open(\"file4_name.txt\",\"w\") as f:\n",
        "  f.write(\"line1\\n\")\n",
        "  f.write(\"line2\\n\")\n",
        "  f.write(\"line3\\n\")\n",
        "with open(\"file4_name.txt\",\"r\") as f:\n",
        "  lines=f.readlines()\n",
        "  print(lines)"
      ],
      "metadata": {
        "colab": {
          "base_uri": "https://localhost:8080/"
        },
        "id": "C0G9pBMaVdQP",
        "outputId": "52e1d294-2acc-472c-d555-ee51f67f52d3"
      },
      "execution_count": 18,
      "outputs": [
        {
          "output_type": "stream",
          "name": "stdout",
          "text": [
            "['line1\\n', 'line2\\n', 'line3\\n']\n"
          ]
        }
      ]
    },
    {
      "cell_type": "code",
      "source": [
        "#q10 How can you append data to an existing file in Python?\n",
        "with open(\"file5_name.txt\",\"w\") as f:\n",
        "  f.write(\"line1\\n\")\n",
        "  f.write(\"line2\\n\")\n",
        "  f.write(\"line3\\n\")\n",
        "  f.write(\"line4\\n\")\n",
        "with open(\"file5_name.txt\",\"r\") as f:\n",
        "  print(f.read())"
      ],
      "metadata": {
        "colab": {
          "base_uri": "https://localhost:8080/"
        },
        "id": "focsWTooVdVQ",
        "outputId": "da5d2d37-308f-4277-ca3b-623c0ae7aa8e"
      },
      "execution_count": 19,
      "outputs": [
        {
          "output_type": "stream",
          "name": "stdout",
          "text": [
            "line1\n",
            "line2\n",
            "line3\n",
            "line4\n",
            "\n"
          ]
        }
      ]
    },
    {
      "cell_type": "code",
      "source": [
        "#q11. Write a Python program that uses a try-except block to handle an error when attempting to access a\n",
        "#dictionary key that doesn't exit\n",
        "try:\n",
        "  d={\"a\":1,\"b\":2,\"c\":3}\n",
        "  print(d[\"d\"])\n",
        "except KeyError as e:\n",
        "  print(\"key error,the given key is not exixt\",e)"
      ],
      "metadata": {
        "colab": {
          "base_uri": "https://localhost:8080/"
        },
        "id": "MnH3jeK8VdbB",
        "outputId": "ef285f7d-4f3f-4d3d-a547-a2f68b4e3559"
      },
      "execution_count": 21,
      "outputs": [
        {
          "output_type": "stream",
          "name": "stdout",
          "text": [
            "key error,the given key is not exixt 'd'\n"
          ]
        }
      ]
    },
    {
      "cell_type": "code",
      "source": [
        "#q12.Write a program that demonstrates using multiple except blocks to handle different types of exceptions\n",
        "try:\n",
        "  a=10\n",
        "  b=0\n",
        "  c=a/b\n",
        "except ZeroDivisionError as e:\n",
        "  print(\"division by zero error\",e)\n",
        "except TypeError as e:\n",
        "  print(\"type error\",e)\n",
        "except KeyError as e:\n",
        "  print(\"key error\",e)\n"
      ],
      "metadata": {
        "colab": {
          "base_uri": "https://localhost:8080/"
        },
        "id": "wyC4VtYpVdgE",
        "outputId": "1f1596fd-7d4a-48be-8d32-f3e8f61b76ce"
      },
      "execution_count": 22,
      "outputs": [
        {
          "output_type": "stream",
          "name": "stdout",
          "text": [
            "division by zero error division by zero\n"
          ]
        }
      ]
    },
    {
      "cell_type": "code",
      "source": [
        "#13. How would you check if a file exists before attempting to read it in Python?\n",
        "import os\n",
        "if os.path.exists(\"file6_name.txt\"):\n",
        "  with open(\"file6_name.txt\",\"r\") as f:\n",
        "    print(f.read())\n",
        "else:\n",
        "  print(\"file not found\")"
      ],
      "metadata": {
        "colab": {
          "base_uri": "https://localhost:8080/"
        },
        "id": "1V5pd9XdVdni",
        "outputId": "d1af08b3-7583-4edb-e0ac-a46b8ad18076"
      },
      "execution_count": 23,
      "outputs": [
        {
          "output_type": "stream",
          "name": "stdout",
          "text": [
            "file not found\n"
          ]
        }
      ]
    },
    {
      "cell_type": "code",
      "source": [
        "#14. Write a program that uses the logging module to log both informational and error messages\n",
        "import logging\n",
        "logging.basicConfig(filename=\"info_error.log\",level=logging.INFO)\n",
        "logging.info(\"this is info message\")\n",
        "logging.error(\"this is error message\")\n"
      ],
      "metadata": {
        "colab": {
          "base_uri": "https://localhost:8080/"
        },
        "id": "bv6B6oeCVdrg",
        "outputId": "b66a9382-d346-42ae-9d83-e322e0c856a5"
      },
      "execution_count": 24,
      "outputs": [
        {
          "output_type": "stream",
          "name": "stderr",
          "text": [
            "ERROR:root:this is error message\n"
          ]
        }
      ]
    },
    {
      "cell_type": "code",
      "source": [
        "#15.Write a Python program that prints the content of a file and handles the case when the file is empty\n",
        "try:\n",
        "  with open(\"file7_name.txt\",\"r\") as f:\n",
        "    print(f.read())\n",
        "except FileNotFoundError:\n",
        "  print(\"file not found\")\n"
      ],
      "metadata": {
        "colab": {
          "base_uri": "https://localhost:8080/"
        },
        "id": "5gzScQ1pVdvZ",
        "outputId": "dc843693-d1c2-462b-8d42-fcf759bce5ee"
      },
      "execution_count": 26,
      "outputs": [
        {
          "output_type": "stream",
          "name": "stdout",
          "text": [
            "file not found\n"
          ]
        }
      ]
    },
    {
      "cell_type": "code",
      "source": [
        "#17. Write a Python program to create and write a list of numbers to a file, one number per line\n",
        "with open(\"file8_name.txt\",\"w\") as f:\n",
        "  f.write(\"1\\n\")\n",
        "  f.write(\"2\\n\")\n",
        "  f.write(\"3\\n\")\n",
        "  f.write(\"4\\n\")\n",
        "  f.write(\"5\\n\")\n",
        "with open(\"file8_name.txt\",\"r\") as f:\n",
        "  print(f.read())"
      ],
      "metadata": {
        "colab": {
          "base_uri": "https://localhost:8080/"
        },
        "id": "ltlNONp8Vd7B",
        "outputId": "34593858-1293-4539-8d83-bc6ef89ce3ce"
      },
      "execution_count": 27,
      "outputs": [
        {
          "output_type": "stream",
          "name": "stdout",
          "text": [
            "1\n",
            "2\n",
            "3\n",
            "4\n",
            "5\n",
            "\n"
          ]
        }
      ]
    },
    {
      "cell_type": "code",
      "source": [
        "#18  How would you implement a basic logging setup that logs to a file with rotation after 1MB?\n",
        "import logging\n",
        "from logging.handlers import RotatingFileHandler\n",
        "logger=logging.getLogger(__name__)\n",
        "logger.setLevel(logging.INFO)\n",
        "handler=RotatingFileHandler(\"log_file.log\",maxBytes=1000000,backupCount=5)\n",
        "logger.addHandler(handler)\n",
        "logger.info(\"this is info message\")\n",
        "logger.error(\"this is error message\")\n"
      ],
      "metadata": {
        "colab": {
          "base_uri": "https://localhost:8080/"
        },
        "id": "KpqZo9GSVd-h",
        "outputId": "25ee0931-7a0a-49f1-b68c-4df6556d30c7"
      },
      "execution_count": 28,
      "outputs": [
        {
          "output_type": "stream",
          "name": "stderr",
          "text": [
            "INFO:__main__:this is info message\n",
            "ERROR:__main__:this is error message\n"
          ]
        }
      ]
    },
    {
      "cell_type": "code",
      "source": [
        "#q19.  Write a program that handles both IndexError and KeyError using a try-except block\n",
        "try:\n",
        "  l=[1,2,3,4,5]\n",
        "  print(l[10])\n",
        "except IndexError as e:\n",
        "  print(\"index error\",e)\n",
        "except KeyError as e:\n",
        "  print(\"key error\",e)"
      ],
      "metadata": {
        "colab": {
          "base_uri": "https://localhost:8080/"
        },
        "id": "gZvbtLY0VeB5",
        "outputId": "b6cd62e2-9deb-44ff-d006-408786c99eea"
      },
      "execution_count": 29,
      "outputs": [
        {
          "output_type": "stream",
          "name": "stdout",
          "text": [
            "index error list index out of range\n"
          ]
        }
      ]
    },
    {
      "cell_type": "code",
      "source": [
        "#Q20.How would you open a file and read its contents using a context manager in Python?\n",
        "with open(\"file9_name.txt\",\"w\") as f:\n",
        "  f.write(\"this is string1\\n\")\n",
        "  f.write(\"this is string2\\n\")\n",
        "  f.write(\"this is string3\\n\")\n"
      ],
      "metadata": {
        "id": "YzRyo7lrVeE4"
      },
      "execution_count": 30,
      "outputs": []
    },
    {
      "cell_type": "code",
      "source": [
        "#Q21. Write a Python program that reads a file and prints the number of occurrences of a specific word\n",
        "\n",
        "def count_word_occurrences(file_path, word_to_find):\n",
        "    \"\"\"Reads a file and counts the occurrences of a specific word.\"\"\"\n",
        "    count = 0\n",
        "    try:\n",
        "        with open(file_path, 'r') as f:\n",
        "            for line in f:\n",
        "                # Split the line into words and count occurrences\n",
        "                words = line.split()\n",
        "                count += words.count(word_to_find)\n",
        "    except FileNotFoundError:\n",
        "        print(f\"Error: File '{file_path}' not found.\")\n",
        "        return -1 # Indicate an error\n",
        "    return count\n",
        "\n",
        "# Example usage:\n",
        "file_name = \"file10_name.txt\" # Create a dummy file for demonstration\n",
        "with open(file_name, \"w\") as f:\n",
        "    f.write(\"This is a test file.\\n\")\n",
        "    f.write(\"This file contains the word test multiple times.\\n\")\n",
        "    f.write(\"Another test line.\\n\")\n",
        "\n",
        "word_to_find = \"test\"\n",
        "occurrence_count = count_word_occurrences(file_name, word_to_find)\n",
        "\n",
        "if occurrence_count != -1:\n",
        "    print(f\"The word '{word_to_find}' appears {occurrence_count} times in '{file_name}'.\")"
      ],
      "metadata": {
        "colab": {
          "base_uri": "https://localhost:8080/"
        },
        "id": "4XPowwZZVeKZ",
        "outputId": "7b9e8e97-0f39-461a-909e-494e20a6ac80"
      },
      "execution_count": 32,
      "outputs": [
        {
          "output_type": "stream",
          "name": "stdout",
          "text": [
            "The word 'test' appears 3 times in 'file10_name.txt'.\n"
          ]
        }
      ]
    },
    {
      "cell_type": "code",
      "source": [
        "with open(\"newfile.txt\",\"w\")as f:\n",
        "\n"
      ],
      "metadata": {
        "colab": {
          "base_uri": "https://localhost:8080/",
          "height": 106
        },
        "id": "mcTSfgUOr0ns",
        "outputId": "642d161b-e936-4de1-c9c9-55dec948a584"
      },
      "execution_count": 36,
      "outputs": [
        {
          "output_type": "error",
          "ename": "SyntaxError",
          "evalue": "incomplete input (ipython-input-4172878083.py, line 2)",
          "traceback": [
            "\u001b[0;36m  File \u001b[0;32m\"/tmp/ipython-input-4172878083.py\"\u001b[0;36m, line \u001b[0;32m2\u001b[0m\n\u001b[0;31m    \u001b[0m\n\u001b[0m    ^\u001b[0m\n\u001b[0;31mSyntaxError\u001b[0m\u001b[0;31m:\u001b[0m incomplete input\n"
          ]
        }
      ]
    },
    {
      "cell_type": "code",
      "source": [
        "#Q22. How can you check if a file is empty before attempting to read its contents?\n",
        "import os\n",
        "file_path=\"file5_name.txt\"\n",
        "if os.path.getsize(file_path)==0:\n",
        "  print(\"file is empty\")\n",
        "else:\n",
        "  with open(file_path,\"r\") as f:\n",
        "    print(f.read())"
      ],
      "metadata": {
        "colab": {
          "base_uri": "https://localhost:8080/"
        },
        "id": "PbcIwzwhVeNo",
        "outputId": "6ca4e93a-39b5-4dee-d4ca-237b1019ac26"
      },
      "execution_count": 38,
      "outputs": [
        {
          "output_type": "stream",
          "name": "stdout",
          "text": [
            "line1\n",
            "line2\n",
            "line3\n",
            "line4\n",
            "\n"
          ]
        }
      ]
    },
    {
      "cell_type": "code",
      "source": [
        "#23. Write a Python program that writes to a log file when an error occurs during file handling\n",
        "import logging\n",
        "logging.basicConfig(filename=\"error_log.log\",level=logging.ERROR)\n",
        "try:\n",
        "  with open(\"file11_name.txt\",\"r\") as f:\n",
        "    print(f.read())\n",
        "except FileNotFoundError as e:\n",
        "  logging.error\n",
        "  print(\"file not found\",e)"
      ],
      "metadata": {
        "colab": {
          "base_uri": "https://localhost:8080/"
        },
        "id": "jmPfxEKFVeUj",
        "outputId": "3ac13d8c-6d20-4e74-9058-580ec1eb057c"
      },
      "execution_count": 40,
      "outputs": [
        {
          "output_type": "stream",
          "name": "stdout",
          "text": [
            "file not found [Errno 2] No such file or directory: 'file11_name.txt'\n"
          ]
        }
      ]
    }
  ]
}